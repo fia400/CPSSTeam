{
 "cells": [
  {
   "cell_type": "markdown",
   "metadata": {},
   "source": [
    "#### Write this as a brief summary of your interests and intent, including:\n",
    "\n",
    "* The kind of data you'd like to work with/field you're interested in (e.g., geodata, weather data, etc.)\n",
    "\n",
    "* The kinds of questions you'll be asking of that data\n",
    "\n",
    "* Possible source for such data\n",
    "\n",
    "In other words, write down what kind of data you plan to work with, and what kinds of questions you'd like to ask of it. This constitutes your Project Proposal/Outline, and should look something like this:\n",
    "\n",
    "> Our project is to uncover patterns in criminal activity around Los Angeles. We'll examine relationships between types of crime and location; crime rates and times of day; trends in crime rates over the course of the year; and related questions, as the data admits."
   ]
  },
  {
   "cell_type": "markdown",
   "metadata": {},
   "source": [
    "#### Finding Data\n",
    "\n",
    "Once your group has written an outline, it's time to start hunting for data. You are free to use data from any source, but we recommend the following curated sources of high-quality data:\n",
    "\n",
    "* [data.world](https://data.world/)\n",
    "\n",
    "* [Kaggle](https://www.kaggle.com/)\n",
    "\n",
    "* [Data.gov](https://www.data.gov)\n",
    "\n",
    "* [Public APIs](https://github.com/abhishekbanthia/Public-APIs)\n",
    "\n",
    "* [Awesome-APIs List](https://github.com/Kikobeats/awesome-api)\n",
    "\n",
    "* [Medium APIs List](https://medium.com/@benjamin_libor/a-curated-collection-of-over-150-apis-to-build-great-products-fdcfa0f361bc)\n",
    "\n",
    "Chances are you'll have to update your Project Outline as you explore the available data. **This is fine**—adjustments like this are part of the process! Just make sure everyone in the group is up-to-speed on the goals of the project as you make changes.\n",
    "\n",
    "Make sure that your data is not too large for local analysis. **Big Data** datasets are difficult to manage locally, so consider a subset of that data or a different dataset altogether."
   ]
  },
  {
   "cell_type": "markdown",
   "metadata": {},
   "source": [
    "#### Data Cleanup & Analysis\n",
    "\n",
    "With data in hand, it's time to tackle development and analysis. This is where the fun starts!\n",
    "\n",
    "Inevitably, the analysis process can be broken into two broad phases: **Exploration & Cleanup** and **Analysis** proper.\n",
    "\n",
    "As you've learned, you'll need to explore, clean, and reformat your data before you can begin to answer your research questions. We recommend keeping track of these exploration and cleanup steps in a dedicated Jupyter Notebook, both for organization's sake and to make it easier to  present your work later.\n",
    "\n",
    "Similarly, after you've massaged your data and are ready to start crunching numbers, you should keep track of your work in a Jupyter Notebook dedicated specifically to analysis.\n",
    "\n",
    "During both phases, **don't forget to include plots**! Don't make the mistake of waiting to build figures until you're preparing your presentation. Creating them along the way can reveal insights and interesting trends in the data that you might not notice otherwise.\n",
    "\n",
    "We recommend focusing your analysis on techniques such as aggregation, correlation, comparison, summary statistics, sentiment analysis, and time series analysis.\n",
    "\n",
    "Finally, be sure that your projects meet the [technical requirements](TechnicalRequirements.md).\n"
   ]
  },
  {
   "cell_type": "code",
   "execution_count": 2,
   "metadata": {},
   "outputs": [
    {
     "ename": "SyntaxError",
     "evalue": "invalid syntax (<ipython-input-2-92ea22557f87>, line 1)",
     "output_type": "error",
     "traceback": [
      "\u001b[0;36m  File \u001b[0;32m\"<ipython-input-2-92ea22557f87>\"\u001b[0;36m, line \u001b[0;32m1\u001b[0m\n\u001b[0;31m    Import pandas as pd\u001b[0m\n\u001b[0m                ^\u001b[0m\n\u001b[0;31mSyntaxError\u001b[0m\u001b[0;31m:\u001b[0m invalid syntax\n"
     ]
    }
   ],
   "source": [
    "import pandas as pd \n",
    "\n",
    "\n",
    "csv_path = \"Resources/overdose_processed_states.csv\"\n",
    "StateOverdose_df = pd.read_csv(csv_path)\n",
    "\n",
    "StateOverdoes_df.head(10)"
   ]
  },
  {
   "cell_type": "code",
   "execution_count": null,
   "metadata": {},
   "outputs": [],
   "source": []
  }
 ],
 "metadata": {
  "kernelspec": {
   "display_name": "Python 3",
   "language": "python",
   "name": "python3"
  },
  "language_info": {
   "codemirror_mode": {
    "name": "ipython",
    "version": 3
   },
   "file_extension": ".py",
   "mimetype": "text/x-python",
   "name": "python",
   "nbconvert_exporter": "python",
   "pygments_lexer": "ipython3",
   "version": "3.7.4"
  }
 },
 "nbformat": 4,
 "nbformat_minor": 2
}
